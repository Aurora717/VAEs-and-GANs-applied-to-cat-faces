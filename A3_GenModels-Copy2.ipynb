{
 "cells": [
  {
   "cell_type": "markdown",
   "metadata": {
    "id": "YjFWQh_hyghW"
   },
   "source": [
    "# Introduction to Deep Learning\n",
    "## Assignment 3, Part 2\n",
    "\n",
    "### Generative Models\n",
    "\n",
    "<img src=\"https://lilianweng.github.io/lil-log/assets/images/three-generative-models.png\" width=\"500\"> \n",
    "\n",
    "\n",
    "In this notebook we are going to cover two generative models for generating novel images:\n",
    "\n",
    "1. Variational Autoencoders (VAEs)\n",
    "2. Generative adversarial networks (GANs)\n",
    "\n",
    "Your main goal will be to retrain these models on a dataset of your choice and do some experiments on the learned latent space.\n"
   ]
  },
  {
   "cell_type": "code",
   "execution_count": 114,
   "metadata": {
    "colab": {
     "base_uri": "https://localhost:8080/"
    },
    "id": "aDjcuZ_rygha",
    "outputId": "a6a80bda-862e-4235-ab32-4a7943298a2a"
   },
   "outputs": [],
   "source": [
    "from tqdm import tqdm\n",
    "import numpy as np\n",
    "import tensorflow as tf\n",
    "import matplotlib.pyplot as plt\n",
    "import os\n",
    "from numpy.random import randn\n",
    "from numpy.random import randint\n",
    "from numpy import linspace\n",
    "import cv2\n",
    "\n",
    "\n",
    "\n",
    "#from google.colab import drive\n",
    "#drive.mount('/content/drive', force_remount=True)\n"
   ]
  },
  {
   "cell_type": "code",
   "execution_count": null,
   "metadata": {},
   "outputs": [],
   "source": []
  },
  {
   "cell_type": "code",
   "execution_count": null,
   "metadata": {},
   "outputs": [],
   "source": []
  },
  {
   "cell_type": "code",
   "execution_count": null,
   "metadata": {},
   "outputs": [],
   "source": [
    "X.shape"
   ]
  },
  {
   "cell_type": "markdown",
   "metadata": {
    "id": "4XMNhkbjyghf"
   },
   "source": [
    "\n",
    "### Dataset\n",
    "\n",
    "This dataset is called [Flickr-Faces-HQ Dataset](https://github.com/NVlabs/ffhq-dataset). Here we will use a downsampled version of it (64x64x3) that will speed up all the experiments."
   ]
  },
  {
   "cell_type": "code",
   "execution_count": null,
   "metadata": {},
   "outputs": [],
   "source": []
  },
  {
   "cell_type": "code",
   "execution_count": 112,
   "metadata": {
    "colab": {
     "base_uri": "https://localhost:8080/",
     "height": 277
    },
    "id": "el6Icj9gyghg",
    "outputId": "e68fadb5-df37-40b6-92ce-67dbc0c7699e"
   },
   "outputs": [],
   "source": [
    "def load_real_samples(scale=False):\n",
    "    names = os.listdir('cats/')\n",
    "    images = []\n",
    "    for name in names:\n",
    "  \n",
    "        n, ext = os.path.splitext(name)\n",
    "\n",
    "        if ext =='.jpg':\n",
    "            img = cv2.imread('cats/'+name)\n",
    "            images.append(cv2.cvtColor(img, cv2.COLOR_BGR2RGB))\n",
    "    X = np.asarray(images).astype('float32')\n",
    "    if scale:\n",
    "        X = (X - 127.5) * 2\n",
    "    return X / 255.\n",
    "\n",
    "# We will use this function to display the output of our models throughout this notebook\n",
    "def grid_plot(images, epoch='', name='', image_name='', n=3, save=False, scale=False):\n",
    "    if scale:\n",
    "        images = (images + 1) / 2.0\n",
    "    for index in range(n * n):\n",
    "        plt.subplot(n, n, 1 + index)\n",
    "        plt.axis('off')\n",
    "        plt.imshow(images[index])\n",
    "    fig = plt.gcf()\n",
    "    fig.suptitle(name + '  '+ str(epoch), fontsize=14)\n",
    "    if save:\n",
    "        filename = \n",
    "        image_name+'_generated_plot_e%03d_f.png' % (epoch+1)\n",
    "        plt.tight_layout()\n",
    "        #plt.savefig('cats.png',  bbox_inches='tight')\n",
    "        plt.close()\n",
    "    plt.show()\n",
    "\n",
    "\n",
    "dataset = load_real_samples()\n",
    "grid_plot(dataset[np.random.randint(0, 1000, 9)], name='Cat dataset (64x64x3)',image_name = 'cats', n=3)"
   ]
  },
  {
   "cell_type": "markdown",
   "metadata": {
    "id": "IY2JiCWeyghl"
   },
   "source": [
    "## 2.1. Introduction\n",
    "\n",
    "The generative model that we are going to cover both have the following components:\n",
    "\n",
    "1. A downsampling architecture (encoder in case of VAE, and discriminator in case of GAN) to either extract features from the data or model its distribution.\n",
    "2. An upsampling architecture (decoder for VAE, generator for GAN) that will use some kind of latent vector to generate new samples that resemble the data that it was trained on.\n",
    "\n",
    "Since we are going to be dealing with images, we are going to use convolutional networks for upsampling and downsampling, similar to what you see below.\n",
    "\n",
    "<img src=\"https://i2.wp.com/sefiks.com/wp-content/uploads/2018/03/convolutional-autoencoder.png\" width=\"500\"> \n",
    "\n",
    "\n",
    "As you will notice later, generative models are incredibly similar in their architecture - the main differences lie in the training procedure.\n",
    "\n",
    "#### Code for building these components"
   ]
  },
  {
   "cell_type": "code",
   "execution_count": 98,
   "metadata": {
    "id": "AMljVR5oyghm"
   },
   "outputs": [],
   "source": [
    "from tensorflow.keras.layers import Dense, Flatten, Conv2D, Conv2DTranspose, Reshape\n",
    "\n",
    "def build_conv_net(in_shape, out_shape, n_downsampling_layers=4, out_activation='sigmoid', filters = 128):\n",
    "    \"\"\"\n",
    "    Build a basic convolutional network\n",
    "    \"\"\"\n",
    "    \n",
    "    model = tf.keras.Sequential()\n",
    "    default_args=dict(kernel_size=(3,3), strides=(2,2), padding='same', activation='relu')\n",
    "\n",
    "    model.add(Conv2D(input_shape=in_shape, filters=filters, **default_args))\n",
    "\n",
    "    for _ in range(n_downsampling_layers):\n",
    "        model.add(Conv2D(**default_args, filters=filters))\n",
    "\n",
    "    model.add(Flatten())\n",
    "    model.add(Dense(out_shape, activation=out_activation) )\n",
    "    model.summary()\n",
    "    return model\n",
    "\n",
    "\n",
    "def build_deconv_net(latent_dim, n_upsampling_layers=4, activation_out='sigmoid', filters=128):\n",
    "    \"\"\"\n",
    "    Build a deconvolutional network for decoding latent vectors\n",
    "\n",
    "    When building the deconvolutional architecture, usually it is best to use the same layer sizes that \n",
    "    were used in the downsampling network, however the Conv2DTranspose layers are used instead. \n",
    "    Using identical layers and hyperparameters ensures that the dimensionality of our output matches the\n",
    "    input. \n",
    "    \"\"\"\n",
    "\n",
    "    model = tf.keras.Sequential()\n",
    "    model.add(Dense(4 * 4 * 64, input_dim=latent_dim))\n",
    "    model.add(Reshape((4, 4, 64)))\n",
    "    default_args=dict(kernel_size=(3,3), strides=(2,2), padding='same', activation='relu', filters = filters)\n",
    "    \n",
    "    for i in range(n_upsampling_layers):\n",
    "        model.add(Conv2DTranspose(**default_args))\n",
    "\n",
    "    # This last convolutional layer converts back to 3 channel RGB image\n",
    "    model.add(Conv2D(filters=3, kernel_size=(3,3), activation=activation_out, padding='same'))\n",
    "    model.summary()\n",
    "    return model"
   ]
  },
  {
   "cell_type": "markdown",
   "metadata": {
    "id": "JA4GwTxMyghq"
   },
   "source": [
    "### Convolutional Autoencoder example\n",
    "\n",
    "Using these two basic building blocks we can now build a Convolutional Autoencoder (CAE).\n",
    "\n",
    "<img src=\"https://lilianweng.github.io/lil-log/assets/images/autoencoder-architecture.png\" width=\"500\"> \n",
    "\n",
    "\n",
    "\n",
    "Even though it's not a generative model, CAE is a great way to illustrate how these two components (convolutional and deconvolutional networks) can be used together to reconstruct images.\n",
    "\n",
    "They are also useful for experimentation - you can use this model to find network architectures and hyperparameters that produce the best reconstructions before moving on to generative models.\n",
    "\n",
    "You can view such model as a compression/dimensionality reduction method as each image gets compressed to a vector of 256 numbers by the encoder and gets decompressed back into an image using the decoder network."
   ]
  },
  {
   "cell_type": "code",
   "execution_count": null,
   "metadata": {
    "id": "j9vPwWeLyghq",
    "scrolled": true
   },
   "outputs": [],
   "source": [
    "def build_convolutional_autoencoder(data_shape, latent_dim):\n",
    "\n",
    "    encoder = build_conv_net(in_shape=data_shape, out_shape=latent_dim)\n",
    "    decoder = build_deconv_net(latent_dim, activation_out='sigmoid')\n",
    "\n",
    "    # We connect encoder and decoder into a single model\n",
    "    autoencoder = tf.keras.Sequential([encoder, decoder])\n",
    "    \n",
    "    # Binary crossentropy loss - pairwise comparison between input and output pixels\n",
    "    autoencoder.compile(loss='binary_crossentropy', optimizer='adam')\n",
    "\n",
    "    return autoencoder\n",
    "\n",
    "image_size = dataset.shape[1:]\n",
    "latent_dim = 256\n",
    "\n",
    "cae = build_convolutional_autoencoder(image_size, latent_dim)\n",
    "\n",
    "for epoch in range(10):\n",
    "    print('\\nEpoch: ', epoch)\n",
    "\n",
    "    # Note that (X=y) when training autoencoders\n",
    "    # In this case we only care about qualitative performance, we don't split into train/test sets\n",
    "    cae.fit(dataset, dataset, epochs=1, batch_size=64)\n",
    "    \n",
    "    samples = dataset[:9]\n",
    "    reconstructed = cae.predict(samples)\n",
    "    grid_plot(samples, epoch, name='Original', n=3, save=True)\n",
    "    grid_plot(reconstructed, epoch, name='Reconstructed', n=3, save=True)"
   ]
  },
  {
   "cell_type": "markdown",
   "metadata": {
    "id": "TWInkZXdyghv"
   },
   "source": [
    "--- \n",
    "---\n",
    "\n",
    "\n",
    "## 2. 2. Variational Autoencoders (VAEs)\n",
    "\n",
    "<img src=\"https://lilianweng.github.io/lil-log/assets/images/vae-gaussian.png\" width=\"500\"> \n",
    "\n",
    "#### Encoder network\n",
    "This defines the approximate posterior distribution, which takes as input an observation and outputs a set of parameters for specifying the conditional distribution of the latent representation. In this example, we simply model the distribution as a diagonal Gaussian, and the network outputs the mean and log-variance parameters of a factorized Gaussian. We output log-variance instead of the variance directly for numerical stability.\n",
    "\n",
    "#### Decoder network\n",
    "This defines the conditional distribution of the observation $z$, which takes a latent sample $z$ as input and outputs the parameters for a conditional distribution of the observation. We model the latent distribution prior  as a unit Gaussian.\n",
    "\n",
    "#### Reparameterization trick\n",
    "To generate a sample  for the decoder during training, we can sample from the latent distribution defined by the parameters outputted by the encoder, given an input observation $z$. However, this sampling operation creates a bottleneck because backpropagation cannot flow through a random node.\n",
    "\n",
    "To address this, we use a reparameterization trick. In our example, we approximate  using the decoder parameters and another parameter  as follows:\n",
    "\n",
    "$$z = \\mu + \\sigma\\epsilon$$\n",
    "\n",
    "where $\\mu$ and $\\sigma$  represent the mean and standard deviation of a Gaussian distribution respectively. They can be derived from the decoder output. The  can be thought of as a random noise used to maintain stochasticity of $z$. We generate  from a standard normal distribution.\n",
    "\n",
    "The latent variable  is now generated by a function of $\\mu$ and $\\sigma$ which would enable the model to backpropagate gradients in the encoder through $\\mu$ and $\\sigma$ respectively, while maintaining stochasticity through $\\epsilon$.\n",
    "\n",
    "#### Implementation \n",
    "\n",
    "You can see how this trick is implemented below by creating a custom layer by sublassing tf.keras.layers.Layer.\n",
    "It is then connected to the output of the original encoder architecture and an additional [KL](https://en.wikipedia.org/wiki/Kullback–Leibler_divergence) loss term is introduced.\n"
   ]
  },
  {
   "cell_type": "code",
   "execution_count": 105,
   "metadata": {
    "id": "FyGbnibCyghw"
   },
   "outputs": [],
   "source": [
    "class Sampling(tf.keras.layers.Layer):\n",
    "    \"\"\"\n",
    "    Custom layer for the variational autoencoder\n",
    "    It takes two vectors as input - one for means and other for variances of the latent variables described by a multimodal gaussian\n",
    "    Its output is a latent vector randomly sampled from this distribution\n",
    "    \"\"\"\n",
    "    def call(self, inputs):\n",
    "        z_mean, z_var = inputs\n",
    "        batch = tf.shape(z_mean)[0]\n",
    "        dim = tf.shape(z_mean)[1]\n",
    "        epsilon = tf.keras.backend.random_normal(shape=(batch, dim))\n",
    "        return z_mean + tf.exp(0.5 * z_var) * epsilon\n",
    "\n",
    "def build_vae(data_shape, latent_dim, filters):\n",
    "\n",
    "  \n",
    "    # Building the encoder - starts with a simple downsampling convolutional network  \n",
    "    encoder = build_conv_net(data_shape, latent_dim*2, filters=filters)\n",
    "    \n",
    "    # Adding special sampling layer that uses the reparametrization trick \n",
    "    z_mean = Dense(latent_dim)(encoder.output)\n",
    "    z_var = Dense(latent_dim)(encoder.output)\n",
    "    z = Sampling()([z_mean, z_var])\n",
    "    \n",
    "    # Connecting the two encoder parts\n",
    "    encoder = tf.keras.Model(inputs=encoder.input, outputs=z)\n",
    "\n",
    "    # Defining the decoder which is a regular upsampling deconvolutional network\n",
    "    decoder = build_deconv_net(latent_dim, filters = filters, activation_out='sigmoid')\n",
    "    vae = tf.keras.Model(inputs=encoder.input, outputs=decoder(z))\n",
    "    \n",
    "    # Adding the special loss term\n",
    "    kl_loss = -0.5 * tf.reduce_sum(z_var - tf.square(z_mean) - tf.exp(z_var) + 1)\n",
    "    vae.add_loss(kl_loss/tf.cast(tf.keras.backend.prod(data_shape), tf.float32))\n",
    "\n",
    "    vae.compile(optimizer=tf.keras.optimizers.Adam(learning_rate=1e-3), loss='binary_crossentropy')\n",
    "\n",
    "    return encoder, decoder, vae\n"
   ]
  },
  {
   "cell_type": "code",
   "execution_count": 107,
   "metadata": {
    "id": "7p_ppHSayghz",
    "scrolled": true
   },
   "outputs": [
    {
     "name": "stdout",
     "output_type": "stream",
     "text": [
      "Model: \"sequential_58\"\n",
      "_________________________________________________________________\n",
      "Layer (type)                 Output Shape              Param #   \n",
      "=================================================================\n",
      "conv2d_414 (Conv2D)          (None, 32, 32, 152)       4256      \n",
      "_________________________________________________________________\n",
      "conv2d_415 (Conv2D)          (None, 16, 16, 152)       208088    \n",
      "_________________________________________________________________\n",
      "conv2d_416 (Conv2D)          (None, 8, 8, 152)         208088    \n",
      "_________________________________________________________________\n",
      "conv2d_417 (Conv2D)          (None, 4, 4, 152)         208088    \n",
      "_________________________________________________________________\n",
      "conv2d_418 (Conv2D)          (None, 2, 2, 152)         208088    \n",
      "_________________________________________________________________\n",
      "flatten_25 (Flatten)         (None, 608)               0         \n",
      "_________________________________________________________________\n",
      "dense_88 (Dense)             (None, 64)                38976     \n",
      "=================================================================\n",
      "Total params: 875,584\n",
      "Trainable params: 875,584\n",
      "Non-trainable params: 0\n",
      "_________________________________________________________________\n",
      "Model: \"sequential_59\"\n",
      "_________________________________________________________________\n",
      "Layer (type)                 Output Shape              Param #   \n",
      "=================================================================\n",
      "dense_91 (Dense)             (None, 1024)              33792     \n",
      "_________________________________________________________________\n",
      "reshape_25 (Reshape)         (None, 4, 4, 64)          0         \n",
      "_________________________________________________________________\n",
      "conv2d_transpose_137 (Conv2D (None, 8, 8, 152)         87704     \n",
      "_________________________________________________________________\n",
      "conv2d_transpose_138 (Conv2D (None, 16, 16, 152)       208088    \n",
      "_________________________________________________________________\n",
      "conv2d_transpose_139 (Conv2D (None, 32, 32, 152)       208088    \n",
      "_________________________________________________________________\n",
      "conv2d_transpose_140 (Conv2D (None, 64, 64, 152)       208088    \n",
      "_________________________________________________________________\n",
      "conv2d_419 (Conv2D)          (None, 64, 64, 3)         4107      \n",
      "=================================================================\n",
      "Total params: 749,867\n",
      "Trainable params: 749,867\n",
      "Non-trainable params: 0\n",
      "_________________________________________________________________\n"
     ]
    },
    {
     "name": "stderr",
     "output_type": "stream",
     "text": [
      "2021-12-17 14:11:03.284589: I tensorflow/core/grappler/optimizers/custom_graph_optimizer_registry.cc:112] Plugin optimizer for device_type GPU is enabled.\n"
     ]
    },
    {
     "name": "stdout",
     "output_type": "stream",
     "text": [
      "3937/3937 [==============================] - 143s 36ms/step - loss: 0.6066\n",
      "3937/3937 [==============================] - 141s 36ms/step - loss: 0.5891\n",
      "3937/3937 [==============================] - 141s 36ms/step - loss: 0.5863\n",
      "3937/3937 [==============================] - 140s 36ms/step - loss: 0.5847\n",
      "3937/3937 [==============================] - 140s 36ms/step - loss: 0.5824\n",
      "3937/3937 [==============================] - 141s 36ms/step - loss: 0.5812\n",
      "3937/3937 [==============================] - 141s 36ms/step - loss: 0.5806\n",
      "3937/3937 [==============================] - 141s 36ms/step - loss: 0.5800\n",
      "3937/3937 [==============================] - 141s 36ms/step - loss: 0.5795\n",
      "3937/3937 [==============================] - 141s 36ms/step - loss: 0.5790\n",
      "3937/3937 [==============================] - 142s 36ms/step - loss: 0.5786\n",
      "3937/3937 [==============================] - 142s 36ms/step - loss: 0.5783\n",
      "3937/3937 [==============================] - 141s 36ms/step - loss: 0.5781\n",
      "3937/3937 [==============================] - 141s 36ms/step - loss: 0.5777\n",
      "3937/3937 [==============================] - 143s 36ms/step - loss: 0.5775\n",
      "3937/3937 [==============================] - 143s 36ms/step - loss: 0.5772\n",
      "3937/3937 [==============================] - 142s 36ms/step - loss: 0.5771\n",
      "3937/3937 [==============================] - 142s 36ms/step - loss: 0.5768\n",
      "3937/3937 [==============================] - 142s 36ms/step - loss: 0.5766\n",
      "3937/3937 [==============================] - 143s 36ms/step - loss: 0.5764\n",
      "3937/3937 [==============================] - 141s 36ms/step - loss: 0.5762\n",
      "3937/3937 [==============================] - 144s 36ms/step - loss: 0.5761\n",
      "3937/3937 [==============================] - 143s 36ms/step - loss: 0.5758\n",
      "3937/3937 [==============================] - 143s 36ms/step - loss: 0.5758\n",
      "3937/3937 [==============================] - 139s 35ms/step - loss: 0.5756\n",
      "3937/3937 [==============================] - 139s 35ms/step - loss: 0.5755\n",
      "3937/3937 [==============================] - 142s 36ms/step - loss: 0.5754\n",
      "3937/3937 [==============================] - 141s 36ms/step - loss: 0.5752\n",
      "3937/3937 [==============================] - 139s 35ms/step - loss: 0.5751\n",
      "3937/3937 [==============================] - 142s 36ms/step - loss: 0.5749\n",
      "3937/3937 [==============================] - 141s 36ms/step - loss: 0.5748\n",
      "3937/3937 [==============================] - 142s 36ms/step - loss: 0.5748\n",
      "3937/3937 [==============================] - 143s 36ms/step - loss: 0.5746\n",
      "3937/3937 [==============================] - 141s 36ms/step - loss: 0.5745\n",
      "3937/3937 [==============================] - 141s 36ms/step - loss: 0.5744\n",
      "3937/3937 [==============================] - 142s 36ms/step - loss: 0.5743\n",
      "3937/3937 [==============================] - 142s 36ms/step - loss: 0.5742\n",
      "3937/3937 [==============================] - 141s 36ms/step - loss: 0.5741\n",
      "3937/3937 [==============================] - 141s 36ms/step - loss: 0.5741\n",
      "3937/3937 [==============================] - 141s 36ms/step - loss: 0.5740\n",
      "3937/3937 [==============================] - 142s 36ms/step - loss: 0.5739\n",
      "3937/3937 [==============================] - 141s 36ms/step - loss: 0.5738\n",
      "3937/3937 [==============================] - 144s 36ms/step - loss: 0.5738\n",
      "3937/3937 [==============================] - 142s 36ms/step - loss: 0.5737\n",
      "3937/3937 [==============================] - 140s 36ms/step - loss: 0.5737\n",
      "3937/3937 [==============================] - 140s 36ms/step - loss: 0.5735\n",
      "3937/3937 [==============================] - 141s 36ms/step - loss: 0.5736\n",
      "3937/3937 [==============================] - 141s 36ms/step - loss: 0.5734\n",
      "3937/3937 [==============================] - 138s 35ms/step - loss: 0.5734\n",
      "3937/3937 [==============================] - 137s 35ms/step - loss: 0.5734\n"
     ]
    }
   ],
   "source": [
    "# Training the VAE model\n",
    "\n",
    "latent_dim = 32\n",
    "encoder, decoder, vae = build_vae(dataset.shape[1:], latent_dim, filters = 152)\n",
    "\n",
    "# Generate random vectors that we will use to sample our latent space\n",
    "latent_vectors = np.random.randn(9, latent_dim)\n",
    "vae_loss = []\n",
    "for epoch in range(50):\n",
    "    history_vae = vae.fit(dataset, dataset, epochs=1, batch_size=4)\n",
    "    vae_loss.append(history_vae.history['loss'])\n",
    "    images = decoder(latent_vectors)\n",
    "    grid_plot(images, epoch, name='VAE generated images', image_name = 'vae' ,n=3, save=False)"
   ]
  },
  {
   "cell_type": "code",
   "execution_count": 113,
   "metadata": {},
   "outputs": [
    {
     "data": {
      "image/png": "[encoded data removed]",
      "text/plain": [
       "<Figure size 432x288 with 1 Axes>"
      ]
     },
     "metadata": {
      "needs_background": "light"
     },
     "output_type": "display_data"
    }
   ],
   "source": [
    "plt.title('VAE Loss')\n",
    "plt.xlabel('Epochs')\n",
    "plt.ylabel('Loss')\n",
    "plt.plot(vae_loss)\n",
    "plt.tight_layout\n",
    "plt.savefig('vae_loss.png', dpi = 200, bbox_inches = 'tight')"
   ]
  },
  {
   "cell_type": "markdown",
   "metadata": {
    "id": "JkT8Wmc_ygh3"
   },
   "source": [
    "---\n",
    "\n",
    "## 2.3 Generative Adversarial Networks (GANs)\n",
    "\n",
    "### GAN architecture\n",
    "Generative adversarial networks consist of two models: a generative model and a discriminative model.\n",
    "\n",
    "<img src=\"https://media.springernature.com/original/springer-static/image/chp%3A10.1007%2F978-1-4842-3679-6_8/MediaObjects/463582_1_En_8_Fig1_HTML.jpg\" width=\"500\"> \n",
    "\n",
    "**The discriminator** model is a classifier that determines whether a given image looks like a real image from the dataset or like an artificially created image. This is basically a binary classifier that will take the form of a normal convolutional neural network (CNN).\n",
    "As an input this network will get samples both from the dataset that it is trained on and on the samples generated by the **generator**.\n",
    "\n",
    "The **generator** model takes random input values (noise) and transforms them into images through a deconvolutional neural network.\n",
    "\n",
    "Over the course of many training iterations, the weights and biases in the discriminator and the generator are trained through backpropagation. The discriminator learns to tell \"real\" images of handwritten digits apart from \"fake\" images created by the generator. At the same time, the generator uses feedback from the discriminator to learn how to produce convincing images that the discriminator can't distinguish from real images.\n",
    "\n",
    "\n"
   ]
  },
  {
   "cell_type": "code",
   "execution_count": 56,
   "metadata": {
    "id": "E5J6CxJ9ygh4"
   },
   "outputs": [],
   "source": [
    "def build_gan(data_shape, latent_dim, lr=0.0002, beta_1=0.5):\n",
    "    optimizer = tf.optimizers.Adam(learning_rate=lr, beta_1=beta_1)\n",
    "\n",
    "    # Usually thew GAN generator has tanh activation function in the output layer\n",
    "    generator = build_deconv_net(latent_dim, activation_out='tanh')\n",
    "    \n",
    "    # Build and compile the discriminator\n",
    "    discriminator = build_conv_net(in_shape=data_shape, out_shape=1) # Single output for binary classification\n",
    "    discriminator.compile(loss='binary_crossentropy', optimizer=optimizer)\n",
    "    \n",
    "    # End-to-end GAN model for training the generator\n",
    "    discriminator.trainable = False\n",
    "    true_fake_prediction = discriminator(generator.output)\n",
    "    GAN = tf.keras.Model(inputs=generator.input, outputs=true_fake_prediction)\n",
    "    GAN = tf.keras.models.Sequential([generator, discriminator])\n",
    "    GAN.compile(loss='binary_crossentropy', optimizer=optimizer)\n",
    "    \n",
    "    return discriminator, generator, GAN\n"
   ]
  },
  {
   "cell_type": "markdown",
   "metadata": {
    "id": "kD3ipOOiygh8"
   },
   "source": [
    "### Definining custom functions for training\n"
   ]
  },
  {
   "cell_type": "code",
   "execution_count": 57,
   "metadata": {
    "id": "6r31DNfFygh9"
   },
   "outputs": [],
   "source": [
    "def run_generator(generator, n_samples=100):\n",
    "    \"\"\"\n",
    "    Run the generator model and generate n samples of synthetic images using random latent vectors\n",
    "    \"\"\"\n",
    "    latent_dim = generator.layers[0].input_shape[-1]\n",
    "    generator_input = np.random.randn(n_samples, latent_dim)\n",
    "\n",
    "    return generator.predict(generator_input)\n",
    "    \n",
    "\n",
    "def get_batch(generator, dataset, batch_size=64):\n",
    "    \"\"\"\n",
    "    Gets a single batch of samples (X) and labels (y) for the training the discriminator.\n",
    "    One half from the real dataset (labeled as 1s), the other created by the generator model (labeled as 0s).\n",
    "    \"\"\"\n",
    "    batch_size //= 2 # Split evenly among fake and real samples\n",
    "\n",
    "    fake_data = run_generator(generator, n_samples=batch_size)\n",
    "    real_data = dataset[np.random.randint(0, dataset.shape[0], batch_size)]\n",
    "\n",
    "    X = np.concatenate([fake_data, real_data], axis=0)\n",
    "    y = np.concatenate([np.zeros([batch_size, 1]), np.ones([batch_size, 1])], axis=0)\n",
    "\n",
    "    return X, y\n",
    "\n",
    "\n",
    "def train_gan(g_loss, d_loss, generator, discriminator, gan, dataset, latent_dim, n_epochs=50, batch_size=64):\n",
    "\n",
    "    batches_per_epoch = int(dataset.shape[0] / batch_size / 2)\n",
    "    for epoch in range(n_epochs):\n",
    "        for batch in tqdm(range(batches_per_epoch)):\n",
    "            \n",
    "            # 1) Train discriminator both on real and synthesized images\n",
    "            X, y = get_batch(generator, dataset, batch_size=batch_size)\n",
    "            discriminator_loss = discriminator.train_on_batch(X, y)\n",
    "            d_loss.append(discriminator_loss)\n",
    "\n",
    "            # 2) Train generator (note that now the label of synthetic images is reversed to 1)\n",
    "            X_gan = np.random.randn(batch_size, latent_dim)\n",
    "            y_gan = np.ones([batch_size, 1])\n",
    "            generator_loss = gan.train_on_batch(X_gan, y_gan)\n",
    "            g_loss.append(generator_loss)\n",
    "\n",
    "        noise = np.random.randn(16, latent_dim)\n",
    "        images = generator.predict(noise)\n",
    "        grid_plot(images, epoch, name='GAN generated images',image_name = 'gans', n=3, save=True, scale=True)\n",
    "        if epoch %10 ==0:\n",
    "            generator.save('models/gans/gen_model_'+str(epoch))\n",
    "            discriminator.save('models/gans/disc_model_'+str(epoch))\n",
    "    return g_loss, d_loss\n"
   ]
  },
  {
   "cell_type": "code",
   "execution_count": 59,
   "metadata": {
    "id": "VpMsdygAygiB",
    "tags": []
   },
   "outputs": [
    {
     "name": "stdout",
     "output_type": "stream",
     "text": [
      "Model: \"sequential_17\"\n",
      "_________________________________________________________________\n",
      "Layer (type)                 Output Shape              Param #   \n",
      "=================================================================\n",
      "dense_14 (Dense)             (None, 1024)              201728    \n",
      "_________________________________________________________________\n",
      "reshape_6 (Reshape)          (None, 4, 4, 64)          0         \n",
      "_________________________________________________________________\n",
      "conv2d_transpose_24 (Conv2DT (None, 8, 8, 128)         73856     \n",
      "_________________________________________________________________\n",
      "conv2d_transpose_25 (Conv2DT (None, 16, 16, 128)       147584    \n",
      "_________________________________________________________________\n",
      "conv2d_transpose_26 (Conv2DT (None, 32, 32, 128)       147584    \n",
      "_________________________________________________________________\n",
      "conv2d_transpose_27 (Conv2DT (None, 64, 64, 128)       147584    \n",
      "_________________________________________________________________\n",
      "conv2d_36 (Conv2D)           (None, 64, 64, 3)         3459      \n",
      "=================================================================\n",
      "Total params: 721,795\n",
      "Trainable params: 721,795\n",
      "Non-trainable params: 0\n",
      "_________________________________________________________________\n",
      "Model: \"sequential_18\"\n",
      "_________________________________________________________________\n",
      "Layer (type)                 Output Shape              Param #   \n",
      "=================================================================\n",
      "conv2d_37 (Conv2D)           (None, 32, 32, 128)       3584      \n",
      "_________________________________________________________________\n",
      "conv2d_38 (Conv2D)           (None, 16, 16, 128)       147584    \n",
      "_________________________________________________________________\n",
      "conv2d_39 (Conv2D)           (None, 8, 8, 128)         147584    \n",
      "_________________________________________________________________\n",
      "conv2d_40 (Conv2D)           (None, 4, 4, 128)         147584    \n",
      "_________________________________________________________________\n",
      "conv2d_41 (Conv2D)           (None, 2, 2, 128)         147584    \n",
      "_________________________________________________________________\n",
      "flatten_6 (Flatten)          (None, 512)               0         \n",
      "_________________________________________________________________\n",
      "dense_15 (Dense)             (None, 1)                 513       \n",
      "=================================================================\n",
      "Total params: 594,433\n",
      "Trainable params: 594,433\n",
      "Non-trainable params: 0\n",
      "_________________________________________________________________\n"
     ]
    },
    {
     "name": "stderr",
     "output_type": "stream",
     "text": [
      "  0%|                                                   | 0/123 [00:00<?, ?it/s]2021-12-16 19:04:36.780247: I tensorflow/core/grappler/optimizers/custom_graph_optimizer_registry.cc:112] Plugin optimizer for device_type GPU is enabled.\n",
      "2021-12-16 19:04:37.019803: I tensorflow/core/grappler/optimizers/custom_graph_optimizer_registry.cc:112] Plugin optimizer for device_type GPU is enabled.\n",
      "2021-12-16 19:04:37.283600: I tensorflow/core/grappler/optimizers/custom_graph_optimizer_registry.cc:112] Plugin optimizer for device_type GPU is enabled.\n",
      "100%|█████████████████████████████████████████| 123/123 [00:45<00:00,  2.70it/s]"
     ]
    },
    {
     "name": "stdout",
     "output_type": "stream",
     "text": [
      "WARNING:tensorflow:Compiled the loaded model, but the compiled metrics have yet to be built. `model.compile_metrics` will be empty until you train or evaluate the model.\n"
     ]
    },
    {
     "name": "stderr",
     "output_type": "stream",
     "text": [
      "\n",
      "2021-12-16 19:05:22.275286: I tensorflow/core/grappler/optimizers/custom_graph_optimizer_registry.cc:112] Plugin optimizer for device_type GPU is enabled.\n"
     ]
    },
    {
     "name": "stdout",
     "output_type": "stream",
     "text": [
      "INFO:tensorflow:Assets written to: models/gans/gen_model_0/assets\n",
      "INFO:tensorflow:Assets written to: models/gans/disc_model_0/assets\n"
     ]
    },
    {
     "name": "stderr",
     "output_type": "stream",
     "text": [
      "100%|█████████████████████████████████████████| 123/123 [00:45<00:00,  2.73it/s]\n",
      "100%|█████████████████████████████████████████| 123/123 [00:45<00:00,  2.71it/s]\n",
      "100%|█████████████████████████████████████████| 123/123 [00:46<00:00,  2.62it/s]\n",
      "100%|█████████████████████████████████████████| 123/123 [00:46<00:00,  2.63it/s]\n",
      "100%|█████████████████████████████████████████| 123/123 [00:46<00:00,  2.64it/s]\n",
      "100%|█████████████████████████████████████████| 123/123 [00:45<00:00,  2.69it/s]\n",
      "100%|█████████████████████████████████████████| 123/123 [00:45<00:00,  2.70it/s]\n",
      "100%|█████████████████████████████████████████| 123/123 [00:45<00:00,  2.70it/s]\n",
      "100%|█████████████████████████████████████████| 123/123 [00:45<00:00,  2.68it/s]\n",
      "100%|█████████████████████████████████████████| 123/123 [00:45<00:00,  2.69it/s]"
     ]
    },
    {
     "name": "stdout",
     "output_type": "stream",
     "text": [
      "WARNING:tensorflow:Compiled the loaded model, but the compiled metrics have yet to be built. `model.compile_metrics` will be empty until you train or evaluate the model.\n"
     ]
    },
    {
     "name": "stderr",
     "output_type": "stream",
     "text": [
      "\n"
     ]
    },
    {
     "name": "stdout",
     "output_type": "stream",
     "text": [
      "INFO:tensorflow:Assets written to: models/gans/gen_model_10/assets\n",
      "INFO:tensorflow:Assets written to: models/gans/disc_model_10/assets\n"
     ]
    },
    {
     "name": "stderr",
     "output_type": "stream",
     "text": [
      "100%|█████████████████████████████████████████| 123/123 [00:45<00:00,  2.68it/s]\n",
      "100%|█████████████████████████████████████████| 123/123 [00:45<00:00,  2.69it/s]\n",
      "100%|█████████████████████████████████████████| 123/123 [00:45<00:00,  2.70it/s]\n",
      "100%|█████████████████████████████████████████| 123/123 [00:45<00:00,  2.69it/s]\n",
      "100%|█████████████████████████████████████████| 123/123 [00:44<00:00,  2.75it/s]\n",
      "100%|█████████████████████████████████████████| 123/123 [00:44<00:00,  2.75it/s]\n",
      "100%|█████████████████████████████████████████| 123/123 [02:48<00:00,  1.37s/it]\n",
      "100%|█████████████████████████████████████████| 123/123 [00:44<00:00,  2.74it/s]\n",
      "100%|█████████████████████████████████████████| 123/123 [00:44<00:00,  2.75it/s]\n",
      "100%|█████████████████████████████████████████| 123/123 [02:02<00:00,  1.00it/s]"
     ]
    },
    {
     "name": "stdout",
     "output_type": "stream",
     "text": [
      "WARNING:tensorflow:Compiled the loaded model, but the compiled metrics have yet to be built. `model.compile_metrics` will be empty until you train or evaluate the model.\n"
     ]
    },
    {
     "name": "stderr",
     "output_type": "stream",
     "text": [
      "\n"
     ]
    },
    {
     "name": "stdout",
     "output_type": "stream",
     "text": [
      "INFO:tensorflow:Assets written to: models/gans/gen_model_20/assets\n",
      "INFO:tensorflow:Assets written to: models/gans/disc_model_20/assets\n"
     ]
    },
    {
     "name": "stderr",
     "output_type": "stream",
     "text": [
      "100%|█████████████████████████████████████████| 123/123 [00:44<00:00,  2.73it/s]\n",
      "100%|█████████████████████████████████████████| 123/123 [00:45<00:00,  2.71it/s]\n",
      "100%|█████████████████████████████████████████| 123/123 [00:44<00:00,  2.75it/s]\n",
      "100%|█████████████████████████████████████████| 123/123 [00:44<00:00,  2.75it/s]\n",
      "100%|█████████████████████████████████████████| 123/123 [10:06<00:00,  4.93s/it]\n",
      "100%|█████████████████████████████████████████| 123/123 [00:47<00:00,  2.60it/s]\n",
      "100%|█████████████████████████████████████████| 123/123 [00:48<00:00,  2.56it/s]\n",
      "100%|█████████████████████████████████████████| 123/123 [00:47<00:00,  2.58it/s]\n",
      "100%|█████████████████████████████████████████| 123/123 [00:47<00:00,  2.60it/s]\n",
      "100%|█████████████████████████████████████████| 123/123 [01:28<00:00,  1.38it/s]"
     ]
    },
    {
     "name": "stdout",
     "output_type": "stream",
     "text": [
      "WARNING:tensorflow:Compiled the loaded model, but the compiled metrics have yet to be built. `model.compile_metrics` will be empty until you train or evaluate the model.\n"
     ]
    },
    {
     "name": "stderr",
     "output_type": "stream",
     "text": [
      "\n"
     ]
    },
    {
     "name": "stdout",
     "output_type": "stream",
     "text": [
      "INFO:tensorflow:Assets written to: models/gans/gen_model_30/assets\n",
      "INFO:tensorflow:Assets written to: models/gans/disc_model_30/assets\n"
     ]
    },
    {
     "name": "stderr",
     "output_type": "stream",
     "text": [
      "100%|█████████████████████████████████████████| 123/123 [00:47<00:00,  2.59it/s]\n",
      "100%|█████████████████████████████████████████| 123/123 [00:47<00:00,  2.60it/s]\n",
      "100%|█████████████████████████████████████████| 123/123 [00:45<00:00,  2.70it/s]\n",
      "100%|█████████████████████████████████████████| 123/123 [00:45<00:00,  2.68it/s]\n",
      "100%|█████████████████████████████████████████| 123/123 [00:47<00:00,  2.58it/s]\n",
      "100%|█████████████████████████████████████████| 123/123 [00:47<00:00,  2.58it/s]\n",
      "100%|█████████████████████████████████████████| 123/123 [06:54<00:00,  3.37s/it]\n",
      "100%|█████████████████████████████████████████| 123/123 [00:45<00:00,  2.68it/s]\n",
      "100%|█████████████████████████████████████████| 123/123 [00:44<00:00,  2.74it/s]\n",
      "100%|█████████████████████████████████████████| 123/123 [00:46<00:00,  2.64it/s]"
     ]
    },
    {
     "name": "stdout",
     "output_type": "stream",
     "text": [
      "WARNING:tensorflow:Compiled the loaded model, but the compiled metrics have yet to be built. `model.compile_metrics` will be empty until you train or evaluate the model.\n"
     ]
    },
    {
     "name": "stderr",
     "output_type": "stream",
     "text": [
      "\n"
     ]
    },
    {
     "name": "stdout",
     "output_type": "stream",
     "text": [
      "INFO:tensorflow:Assets written to: models/gans/gen_model_40/assets\n",
      "INFO:tensorflow:Assets written to: models/gans/disc_model_40/assets\n"
     ]
    },
    {
     "name": "stderr",
     "output_type": "stream",
     "text": [
      "100%|█████████████████████████████████████████| 123/123 [00:46<00:00,  2.63it/s]\n",
      "100%|█████████████████████████████████████████| 123/123 [00:45<00:00,  2.72it/s]\n",
      "100%|█████████████████████████████████████████| 123/123 [00:56<00:00,  2.18it/s]\n",
      "100%|█████████████████████████████████████████| 123/123 [00:56<00:00,  2.18it/s]\n",
      "100%|█████████████████████████████████████████| 123/123 [01:01<00:00,  2.01it/s]\n",
      "100%|█████████████████████████████████████████| 123/123 [01:00<00:00,  2.02it/s]\n",
      "100%|█████████████████████████████████████████| 123/123 [00:45<00:00,  2.71it/s]\n",
      "100%|█████████████████████████████████████████| 123/123 [00:45<00:00,  2.73it/s]\n",
      "100%|█████████████████████████████████████████| 123/123 [00:44<00:00,  2.74it/s]\n",
      "100%|█████████████████████████████████████████| 123/123 [05:04<00:00,  2.48s/it]"
     ]
    },
    {
     "name": "stdout",
     "output_type": "stream",
     "text": [
      "WARNING:tensorflow:Compiled the loaded model, but the compiled metrics have yet to be built. `model.compile_metrics` will be empty until you train or evaluate the model.\n"
     ]
    },
    {
     "name": "stderr",
     "output_type": "stream",
     "text": [
      "\n"
     ]
    },
    {
     "name": "stdout",
     "output_type": "stream",
     "text": [
      "INFO:tensorflow:Assets written to: models/gans/gen_model_50/assets\n",
      "INFO:tensorflow:Assets written to: models/gans/disc_model_50/assets\n"
     ]
    },
    {
     "name": "stderr",
     "output_type": "stream",
     "text": [
      "100%|█████████████████████████████████████████| 123/123 [00:44<00:00,  2.74it/s]\n",
      "100%|█████████████████████████████████████████| 123/123 [00:44<00:00,  2.74it/s]\n",
      "100%|█████████████████████████████████████████| 123/123 [02:01<00:00,  1.01it/s]\n",
      "100%|█████████████████████████████████████████| 123/123 [00:44<00:00,  2.74it/s]\n",
      "100%|█████████████████████████████████████████| 123/123 [00:44<00:00,  2.73it/s]\n",
      "100%|█████████████████████████████████████████| 123/123 [05:45<00:00,  2.81s/it]\n",
      "100%|█████████████████████████████████████████| 123/123 [00:44<00:00,  2.74it/s]\n",
      "100%|█████████████████████████████████████████| 123/123 [00:44<00:00,  2.74it/s]\n",
      "100%|█████████████████████████████████████████| 123/123 [07:27<00:00,  3.63s/it]\n",
      "100%|█████████████████████████████████████████| 123/123 [00:44<00:00,  2.74it/s]"
     ]
    },
    {
     "name": "stdout",
     "output_type": "stream",
     "text": [
      "WARNING:tensorflow:Compiled the loaded model, but the compiled metrics have yet to be built. `model.compile_metrics` will be empty until you train or evaluate the model.\n"
     ]
    },
    {
     "name": "stderr",
     "output_type": "stream",
     "text": [
      "\n"
     ]
    },
    {
     "name": "stdout",
     "output_type": "stream",
     "text": [
      "INFO:tensorflow:Assets written to: models/gans/gen_model_60/assets\n",
      "INFO:tensorflow:Assets written to: models/gans/disc_model_60/assets\n"
     ]
    },
    {
     "name": "stderr",
     "output_type": "stream",
     "text": [
      "100%|█████████████████████████████████████████| 123/123 [00:45<00:00,  2.72it/s]\n",
      "100%|█████████████████████████████████████████| 123/123 [02:36<00:00,  1.27s/it]\n",
      "100%|█████████████████████████████████████████| 123/123 [00:44<00:00,  2.74it/s]\n",
      "100%|█████████████████████████████████████████| 123/123 [00:44<00:00,  2.74it/s]\n",
      "100%|█████████████████████████████████████████| 123/123 [04:02<00:00,  1.97s/it]\n",
      "100%|█████████████████████████████████████████| 123/123 [00:45<00:00,  2.70it/s]\n",
      "100%|█████████████████████████████████████████| 123/123 [00:45<00:00,  2.70it/s]\n",
      "100%|█████████████████████████████████████████| 123/123 [00:45<00:00,  2.68it/s]\n",
      "100%|█████████████████████████████████████████| 123/123 [00:45<00:00,  2.72it/s]\n",
      "100%|█████████████████████████████████████████| 123/123 [00:44<00:00,  2.74it/s]\n"
     ]
    },
    {
     "name": "stdout",
     "output_type": "stream",
     "text": [
      "WARNING:tensorflow:Compiled the loaded model, but the compiled metrics have yet to be built. `model.compile_metrics` will be empty until you train or evaluate the model.\n",
      "INFO:tensorflow:Assets written to: models/gans/gen_model_70/assets\n",
      "INFO:tensorflow:Assets written to: models/gans/disc_model_70/assets\n"
     ]
    },
    {
     "name": "stderr",
     "output_type": "stream",
     "text": [
      "100%|█████████████████████████████████████████| 123/123 [00:44<00:00,  2.74it/s]\n",
      "100%|█████████████████████████████████████████| 123/123 [02:07<00:00,  1.04s/it]\n",
      "100%|█████████████████████████████████████████| 123/123 [00:45<00:00,  2.72it/s]\n",
      "100%|█████████████████████████████████████████| 123/123 [00:45<00:00,  2.68it/s]\n",
      "100%|█████████████████████████████████████████| 123/123 [00:45<00:00,  2.69it/s]\n",
      "100%|█████████████████████████████████████████| 123/123 [00:45<00:00,  2.71it/s]\n",
      "100%|█████████████████████████████████████████| 123/123 [00:45<00:00,  2.73it/s]\n",
      "100%|█████████████████████████████████████████| 123/123 [00:45<00:00,  2.73it/s]\n",
      "100%|█████████████████████████████████████████| 123/123 [00:44<00:00,  2.73it/s]\n",
      "100%|█████████████████████████████████████████| 123/123 [00:45<00:00,  2.73it/s]"
     ]
    },
    {
     "name": "stdout",
     "output_type": "stream",
     "text": [
      "WARNING:tensorflow:Compiled the loaded model, but the compiled metrics have yet to be built. `model.compile_metrics` will be empty until you train or evaluate the model.\n"
     ]
    },
    {
     "name": "stderr",
     "output_type": "stream",
     "text": [
      "\n"
     ]
    },
    {
     "name": "stdout",
     "output_type": "stream",
     "text": [
      "INFO:tensorflow:Assets written to: models/gans/gen_model_80/assets\n",
      "INFO:tensorflow:Assets written to: models/gans/disc_model_80/assets\n"
     ]
    },
    {
     "name": "stderr",
     "output_type": "stream",
     "text": [
      "100%|█████████████████████████████████████████| 123/123 [00:45<00:00,  2.72it/s]\n",
      "100%|█████████████████████████████████████████| 123/123 [00:44<00:00,  2.74it/s]\n",
      "100%|█████████████████████████████████████████| 123/123 [00:44<00:00,  2.74it/s]\n",
      "100%|█████████████████████████████████████████| 123/123 [00:45<00:00,  2.73it/s]\n",
      "100%|█████████████████████████████████████████| 123/123 [00:45<00:00,  2.70it/s]\n",
      "100%|█████████████████████████████████████████| 123/123 [00:44<00:00,  2.74it/s]\n",
      "100%|█████████████████████████████████████████| 123/123 [00:45<00:00,  2.72it/s]\n",
      "100%|█████████████████████████████████████████| 123/123 [00:44<00:00,  2.74it/s]\n",
      "100%|█████████████████████████████████████████| 123/123 [00:45<00:00,  2.73it/s]\n",
      "100%|█████████████████████████████████████████| 123/123 [00:45<00:00,  2.73it/s]"
     ]
    },
    {
     "name": "stdout",
     "output_type": "stream",
     "text": [
      "WARNING:tensorflow:Compiled the loaded model, but the compiled metrics have yet to be built. `model.compile_metrics` will be empty until you train or evaluate the model.\n"
     ]
    },
    {
     "name": "stderr",
     "output_type": "stream",
     "text": [
      "\n"
     ]
    },
    {
     "name": "stdout",
     "output_type": "stream",
     "text": [
      "INFO:tensorflow:Assets written to: models/gans/gen_model_90/assets\n",
      "INFO:tensorflow:Assets written to: models/gans/disc_model_90/assets\n"
     ]
    },
    {
     "name": "stderr",
     "output_type": "stream",
     "text": [
      "100%|█████████████████████████████████████████| 123/123 [00:45<00:00,  2.73it/s]\n",
      "100%|█████████████████████████████████████████| 123/123 [00:45<00:00,  2.73it/s]\n",
      "100%|█████████████████████████████████████████| 123/123 [00:44<00:00,  2.74it/s]\n",
      "100%|█████████████████████████████████████████| 123/123 [00:44<00:00,  2.74it/s]\n",
      "100%|█████████████████████████████████████████| 123/123 [01:14<00:00,  1.64it/s]\n",
      "100%|█████████████████████████████████████████| 123/123 [00:44<00:00,  2.73it/s]\n",
      "100%|█████████████████████████████████████████| 123/123 [00:45<00:00,  2.73it/s]\n",
      "100%|█████████████████████████████████████████| 123/123 [00:45<00:00,  2.72it/s]\n",
      "100%|█████████████████████████████████████████| 123/123 [00:45<00:00,  2.72it/s]\n",
      "100%|█████████████████████████████████████████| 123/123 [00:44<00:00,  2.74it/s]"
     ]
    },
    {
     "name": "stdout",
     "output_type": "stream",
     "text": [
      "WARNING:tensorflow:Compiled the loaded model, but the compiled metrics have yet to be built. `model.compile_metrics` will be empty until you train or evaluate the model.\n"
     ]
    },
    {
     "name": "stderr",
     "output_type": "stream",
     "text": [
      "\n"
     ]
    },
    {
     "name": "stdout",
     "output_type": "stream",
     "text": [
      "INFO:tensorflow:Assets written to: models/gans/gen_model_100/assets\n",
      "INFO:tensorflow:Assets written to: models/gans/disc_model_100/assets\n"
     ]
    },
    {
     "name": "stderr",
     "output_type": "stream",
     "text": [
      "100%|█████████████████████████████████████████| 123/123 [00:44<00:00,  2.74it/s]\n",
      "100%|█████████████████████████████████████████| 123/123 [02:21<00:00,  1.15s/it]\n",
      "100%|█████████████████████████████████████████| 123/123 [00:44<00:00,  2.74it/s]\n",
      "100%|█████████████████████████████████████████| 123/123 [00:45<00:00,  2.73it/s]\n",
      "100%|█████████████████████████████████████████| 123/123 [00:44<00:00,  2.74it/s]\n",
      "100%|█████████████████████████████████████████| 123/123 [00:44<00:00,  2.74it/s]\n",
      "100%|█████████████████████████████████████████| 123/123 [00:45<00:00,  2.73it/s]\n",
      "100%|█████████████████████████████████████████| 123/123 [00:45<00:00,  2.73it/s]\n",
      "100%|█████████████████████████████████████████| 123/123 [00:44<00:00,  2.74it/s]\n",
      "100%|█████████████████████████████████████████| 123/123 [00:45<00:00,  2.71it/s]"
     ]
    },
    {
     "name": "stdout",
     "output_type": "stream",
     "text": [
      "WARNING:tensorflow:Compiled the loaded model, but the compiled metrics have yet to be built. `model.compile_metrics` will be empty until you train or evaluate the model.\n"
     ]
    },
    {
     "name": "stderr",
     "output_type": "stream",
     "text": [
      "\n"
     ]
    },
    {
     "name": "stdout",
     "output_type": "stream",
     "text": [
      "INFO:tensorflow:Assets written to: models/gans/gen_model_110/assets\n",
      "INFO:tensorflow:Assets written to: models/gans/disc_model_110/assets\n"
     ]
    },
    {
     "name": "stderr",
     "output_type": "stream",
     "text": [
      "100%|█████████████████████████████████████████| 123/123 [00:44<00:00,  2.74it/s]\n",
      "100%|█████████████████████████████████████████| 123/123 [00:44<00:00,  2.74it/s]\n",
      "100%|█████████████████████████████████████████| 123/123 [00:45<00:00,  2.73it/s]\n",
      "100%|█████████████████████████████████████████| 123/123 [00:45<00:00,  2.72it/s]\n",
      "100%|█████████████████████████████████████████| 123/123 [00:45<00:00,  2.73it/s]\n",
      "100%|█████████████████████████████████████████| 123/123 [00:45<00:00,  2.73it/s]\n",
      "100%|█████████████████████████████████████████| 123/123 [00:44<00:00,  2.74it/s]\n",
      "100%|█████████████████████████████████████████| 123/123 [01:03<00:00,  1.95it/s]\n",
      "100%|█████████████████████████████████████████| 123/123 [00:45<00:00,  2.73it/s]\n",
      "100%|█████████████████████████████████████████| 123/123 [00:44<00:00,  2.74it/s]\n"
     ]
    },
    {
     "name": "stdout",
     "output_type": "stream",
     "text": [
      "WARNING:tensorflow:Compiled the loaded model, but the compiled metrics have yet to be built. `model.compile_metrics` will be empty until you train or evaluate the model.\n",
      "INFO:tensorflow:Assets written to: models/gans/gen_model_120/assets\n",
      "INFO:tensorflow:Assets written to: models/gans/disc_model_120/assets\n"
     ]
    },
    {
     "name": "stderr",
     "output_type": "stream",
     "text": [
      "100%|█████████████████████████████████████████| 123/123 [00:44<00:00,  2.74it/s]\n",
      "100%|█████████████████████████████████████████| 123/123 [00:44<00:00,  2.74it/s]\n",
      "100%|█████████████████████████████████████████| 123/123 [00:53<00:00,  2.30it/s]\n",
      "100%|█████████████████████████████████████████| 123/123 [00:44<00:00,  2.74it/s]\n",
      "100%|█████████████████████████████████████████| 123/123 [00:44<00:00,  2.74it/s]\n",
      "100%|█████████████████████████████████████████| 123/123 [00:45<00:00,  2.73it/s]\n",
      "100%|█████████████████████████████████████████| 123/123 [00:45<00:00,  2.73it/s]\n",
      "100%|█████████████████████████████████████████| 123/123 [00:44<00:00,  2.74it/s]\n",
      "100%|█████████████████████████████████████████| 123/123 [00:45<00:00,  2.73it/s]\n",
      "100%|█████████████████████████████████████████| 123/123 [00:44<00:00,  2.74it/s]"
     ]
    },
    {
     "name": "stdout",
     "output_type": "stream",
     "text": [
      "WARNING:tensorflow:Compiled the loaded model, but the compiled metrics have yet to be built. `model.compile_metrics` will be empty until you train or evaluate the model.\n"
     ]
    },
    {
     "name": "stderr",
     "output_type": "stream",
     "text": [
      "\n"
     ]
    },
    {
     "name": "stdout",
     "output_type": "stream",
     "text": [
      "INFO:tensorflow:Assets written to: models/gans/gen_model_130/assets\n",
      "INFO:tensorflow:Assets written to: models/gans/disc_model_130/assets\n"
     ]
    },
    {
     "name": "stderr",
     "output_type": "stream",
     "text": [
      "100%|█████████████████████████████████████████| 123/123 [00:45<00:00,  2.71it/s]\n",
      "100%|█████████████████████████████████████████| 123/123 [00:45<00:00,  2.73it/s]\n",
      "100%|█████████████████████████████████████████| 123/123 [00:44<00:00,  2.74it/s]\n",
      "100%|█████████████████████████████████████████| 123/123 [00:45<00:00,  2.73it/s]\n",
      "100%|█████████████████████████████████████████| 123/123 [00:44<00:00,  2.74it/s]\n",
      "100%|█████████████████████████████████████████| 123/123 [00:45<00:00,  2.72it/s]\n",
      "100%|█████████████████████████████████████████| 123/123 [00:45<00:00,  2.73it/s]\n",
      "100%|█████████████████████████████████████████| 123/123 [00:45<00:00,  2.70it/s]\n",
      "100%|█████████████████████████████████████████| 123/123 [00:45<00:00,  2.71it/s]\n",
      "100%|█████████████████████████████████████████| 123/123 [00:45<00:00,  2.72it/s]"
     ]
    },
    {
     "name": "stdout",
     "output_type": "stream",
     "text": [
      "WARNING:tensorflow:Compiled the loaded model, but the compiled metrics have yet to be built. `model.compile_metrics` will be empty until you train or evaluate the model.\n"
     ]
    },
    {
     "name": "stderr",
     "output_type": "stream",
     "text": [
      "\n"
     ]
    },
    {
     "name": "stdout",
     "output_type": "stream",
     "text": [
      "INFO:tensorflow:Assets written to: models/gans/gen_model_140/assets\n",
      "INFO:tensorflow:Assets written to: models/gans/disc_model_140/assets\n"
     ]
    },
    {
     "name": "stderr",
     "output_type": "stream",
     "text": [
      "100%|█████████████████████████████████████████| 123/123 [00:45<00:00,  2.71it/s]\n",
      "100%|█████████████████████████████████████████| 123/123 [00:44<00:00,  2.74it/s]\n",
      "100%|█████████████████████████████████████████| 123/123 [00:45<00:00,  2.73it/s]\n",
      "100%|█████████████████████████████████████████| 123/123 [00:45<00:00,  2.73it/s]\n",
      "100%|█████████████████████████████████████████| 123/123 [00:44<00:00,  2.74it/s]\n",
      "100%|█████████████████████████████████████████| 123/123 [00:44<00:00,  2.74it/s]\n",
      "100%|█████████████████████████████████████████| 123/123 [00:44<00:00,  2.74it/s]\n",
      "100%|█████████████████████████████████████████| 123/123 [00:45<00:00,  2.72it/s]\n",
      "100%|█████████████████████████████████████████| 123/123 [00:45<00:00,  2.69it/s]\n"
     ]
    }
   ],
   "source": [
    "## Build and train the model (need around 10 epochs to start seeing some results)\n",
    "g_loss,d_loss=[],[]\n",
    "latent_dim = 196\n",
    "discriminator, generator, gan = build_gan(dataset.shape[1:], latent_dim)\n",
    "dataset_scaled = load_real_samples(scale=True)\n",
    "\n",
    "g_loss, d_loss = train_gan(g_loss, d_loss, generator, discriminator, gan, dataset_scaled, latent_dim, n_epochs = 150)\n"
   ]
  },
  {
   "cell_type": "code",
   "execution_count": 60,
   "metadata": {},
   "outputs": [
    {
     "data": {
      "image/png": "[encoded data removed]",
      "text/plain": [
       "<Figure size 432x288 with 1 Axes>"
      ]
     },
     "metadata": {
      "needs_background": "light"
     },
     "output_type": "display_data"
    }
   ],
   "source": [
    "plt.rcParams.update({'font.size': 13})\n",
    "plt.title('GANs Generator Loss')\n",
    "plt.ylabel('Loss')\n",
    "plt.xlabel('Iterations')\n",
    "plt.plot(g_loss)\n",
    "plt.tight_layout()\n",
    "plt.savefig('gans_g_loss.png', bbox_inches = 'tight', dpi = 200)\n"
   ]
  },
  {
   "cell_type": "code",
   "execution_count": 61,
   "metadata": {},
   "outputs": [
    {
     "data": {
      "image/png": "[encoded data removed]",
      "text/plain": [
       "<Figure size 432x288 with 1 Axes>"
      ]
     },
     "metadata": {
      "needs_background": "light"
     },
     "output_type": "display_data"
    }
   ],
   "source": [
    "plt.title('GANs Discriminator Loss')\n",
    "plt.ylabel('Loss')\n",
    "plt.xlabel('Iterations')\n",
    "plt.plot(d_loss)\n",
    "plt.tight_layout()\n",
    "plt.savefig('gans_d_loss.png', bbox_inches = 'tight', dpi = 200)"
   ]
  }
 ],
 "metadata": {
  "accelerator": "GPU",
  "colab": {
   "collapsed_sections": [],
   "name": "A3_GenModels.ipynb",
   "provenance": []
  },
  "kernelspec": {
   "display_name": "Python 3 (ipykernel)",
   "language": "python",
   "name": "python3"
  },
  "language_info": {
   "codemirror_mode": {
    "name": "ipython",
    "version": 3
   },
   "file_extension": ".py",
   "mimetype": "text/x-python",
   "name": "python",
   "nbconvert_exporter": "python",
   "pygments_lexer": "ipython3",
   "version": "3.9.2"
  }
 },
 "nbformat": 4,
 "nbformat_minor": 1
}
